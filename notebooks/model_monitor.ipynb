{
 "cells": [
  {
   "cell_type": "code",
   "execution_count": null,
   "id": "0fada601",
   "metadata": {},
   "outputs": [
    {
     "ename": "AttributeError",
     "evalue": "'Report' object has no attribute 'save_html'",
     "output_type": "error",
     "traceback": [
      "\u001b[0;31m---------------------------------------------------------------------------\u001b[0m",
      "\u001b[0;31mAttributeError\u001b[0m                            Traceback (most recent call last)",
      "Cell \u001b[0;32mIn[6], line 15\u001b[0m\n\u001b[1;32m     12\u001b[0m report\u001b[38;5;241m.\u001b[39mrun(reference_data\u001b[38;5;241m=\u001b[39mreference_data, current_data\u001b[38;5;241m=\u001b[39mcurrent_data)\u001b[38;5;241m.\u001b[39msave_html(\u001b[38;5;124m\"\u001b[39m\u001b[38;5;124mdata_drift_report.html\u001b[39m\u001b[38;5;124m\"\u001b[39m)\n\u001b[1;32m     14\u001b[0m \u001b[38;5;66;03m# Save the report as HTML\u001b[39;00m\n\u001b[0;32m---> 15\u001b[0m \u001b[43mreport\u001b[49m\u001b[38;5;241;43m.\u001b[39;49m\u001b[43msave_html\u001b[49m(\u001b[38;5;124m\"\u001b[39m\u001b[38;5;124mreports/data_drift_report.html\u001b[39m\u001b[38;5;124m\"\u001b[39m)\n",
      "\u001b[0;31mAttributeError\u001b[0m: 'Report' object has no attribute 'save_html'"
     ]
    }
   ],
   "source": [
    "from evidently import Report\n",
    "from evidently.presets import DataSummaryPreset\n",
    "import pandas as pd\n",
    "import os\n",
    "\n",
    "# Load the data\n",
    "reference_data = pd.read_csv(r\"/mnt/d/fsds_aws/data/processed/train/housing_train_processed.csv\")\n",
    "current_data = pd.read_csv(r\"/mnt/d/fsds_aws/data/processed/test/housing_test_processed.csv\")\n",
    "\n",
    "# Generate the report\n",
    "report = Report([DataSummaryPreset()])\n",
    "report.run(reference_data=reference_data, current_data=current_data).save_html(\"data_drift_report.html\")\n",
    "\n",
    "# Save the report as HTML\n",
    "# report.save_html(\"reports/data_drift_report.html\")\n"
   ]
  },
  {
   "cell_type": "code",
   "execution_count": 5,
   "id": "589378a2",
   "metadata": {},
   "outputs": [
    {
     "data": {
      "text/plain": [
       "<evidently.core.report.Report at 0x7fb3b17e3ac0>"
      ]
     },
     "execution_count": 5,
     "metadata": {},
     "output_type": "execute_result"
    }
   ],
   "source": [
    "report"
   ]
  },
  {
   "cell_type": "code",
   "execution_count": null,
   "id": "a1f08848",
   "metadata": {},
   "outputs": [],
   "source": []
  },
  {
   "cell_type": "code",
   "execution_count": null,
   "id": "91a496d7",
   "metadata": {},
   "outputs": [],
   "source": []
  },
  {
   "cell_type": "code",
   "execution_count": null,
   "id": "1d852fb4",
   "metadata": {},
   "outputs": [],
   "source": []
  },
  {
   "cell_type": "code",
   "execution_count": null,
   "id": "01f634f8",
   "metadata": {},
   "outputs": [
    {
     "ename": "ImportError",
     "evalue": "cannot import name 'ColumnSummaryMetric' from 'evidently.metrics' (/home/sunilpradhan/conda/envs/fsds/lib/python3.10/site-packages/evidently/metrics/__init__.py)",
     "output_type": "error",
     "traceback": [
      "\u001b[0;31m---------------------------------------------------------------------------\u001b[0m",
      "\u001b[0;31mImportError\u001b[0m                               Traceback (most recent call last)",
      "Cell \u001b[0;32mIn[12], line 6\u001b[0m\n\u001b[1;32m      3\u001b[0m \u001b[38;5;28;01mfrom\u001b[39;00m\u001b[38;5;250m \u001b[39m\u001b[38;5;21;01msklearn\u001b[39;00m\u001b[38;5;250m \u001b[39m\u001b[38;5;28;01mimport\u001b[39;00m datasets\n\u001b[1;32m      5\u001b[0m \u001b[38;5;66;03m# from evidently.metrics import ColumnDriftMetric\u001b[39;00m\n\u001b[0;32m----> 6\u001b[0m \u001b[38;5;28;01mfrom\u001b[39;00m\u001b[38;5;250m \u001b[39m\u001b[38;5;21;01mevidently\u001b[39;00m\u001b[38;5;21;01m.\u001b[39;00m\u001b[38;5;21;01mmetrics\u001b[39;00m\u001b[38;5;250m \u001b[39m\u001b[38;5;28;01mimport\u001b[39;00m ColumnSummaryMetric\n\u001b[1;32m      7\u001b[0m \u001b[38;5;28;01mfrom\u001b[39;00m\u001b[38;5;250m \u001b[39m\u001b[38;5;21;01mevidently\u001b[39;00m\u001b[38;5;21;01m.\u001b[39;00m\u001b[38;5;21;01mmetrics\u001b[39;00m\u001b[38;5;250m \u001b[39m\u001b[38;5;28;01mimport\u001b[39;00m DatasetDriftMetric\n\u001b[1;32m      8\u001b[0m \u001b[38;5;28;01mfrom\u001b[39;00m\u001b[38;5;250m \u001b[39m\u001b[38;5;21;01mevidently\u001b[39;00m\u001b[38;5;21;01m.\u001b[39;00m\u001b[38;5;21;01mmetrics\u001b[39;00m\u001b[38;5;250m \u001b[39m\u001b[38;5;28;01mimport\u001b[39;00m DatasetMissingValuesMetric\n",
      "\u001b[0;31mImportError\u001b[0m: cannot import name 'ColumnSummaryMetric' from 'evidently.metrics' (/home/sunilpradhan/conda/envs/fsds/lib/python3.10/site-packages/evidently/metrics/__init__.py)"
     ]
    }
   ],
   "source": [
    "import datetime\n",
    "\n",
    "from sklearn import datasets\n",
    "\n",
    "from evidently.metrics import ColumnDriftMetric\n",
    "from evidently.metrics import ColumnSummaryMetric\n",
    "from evidently.metrics import DatasetDriftMetric\n",
    "from evidently.metrics import DatasetMissingValuesMetric\n",
    "from evidently import Report\n",
    "from evidently.test_preset import DataDriftTestPreset\n",
    "from evidently.test_suite import TestSuite\n",
    "from evidently.ui.dashboards import CounterAgg\n",
    "from evidently.ui.dashboards import DashboardPanelCounter\n",
    "from evidently.ui.dashboards import DashboardPanelPlot\n",
    "from evidently.ui.dashboards import PanelValue\n",
    "from evidently.ui.dashboards import PlotType\n",
    "from evidently.ui.dashboards import ReportFilter\n",
    "from evidently.ui.remote import RemoteWorkspace\n",
    "from evidently.ui.workspace import Workspace\n",
    "from evidently.ui.workspace import WorkspaceBase"
   ]
  },
  {
   "cell_type": "code",
   "execution_count": 35,
   "id": "6e50a029",
   "metadata": {},
   "outputs": [
    {
     "data": {
      "text/plain": [
       "['Reference',\n",
       " '__all__',\n",
       " '__builtins__',\n",
       " '__cached__',\n",
       " '__doc__',\n",
       " '__file__',\n",
       " '__loader__',\n",
       " '__name__',\n",
       " '__package__',\n",
       " '__path__',\n",
       " '__spec__',\n",
       " 'categorical_tests',\n",
       " 'eq',\n",
       " 'gt',\n",
       " 'gte',\n",
       " 'is_in',\n",
       " 'lt',\n",
       " 'lte',\n",
       " 'not_eq',\n",
       " 'not_in',\n",
       " 'numerical_tests',\n",
       " 'reference']"
      ]
     },
     "execution_count": 35,
     "metadata": {},
     "output_type": "execute_result"
    }
   ],
   "source": [
    "import evidently\n",
    "dir(evidently.tests)\n"
   ]
  },
  {
   "cell_type": "code",
   "execution_count": 20,
   "id": "7ba344a8",
   "metadata": {},
   "outputs": [
    {
     "ename": "ImportError",
     "evalue": "cannot import name 'DataQualityPreset' from 'evidently.presets' (/home/sunilpradhan/conda/envs/fsds/lib/python3.10/site-packages/evidently/presets/__init__.py)",
     "output_type": "error",
     "traceback": [
      "\u001b[0;31m---------------------------------------------------------------------------\u001b[0m",
      "\u001b[0;31mImportError\u001b[0m                               Traceback (most recent call last)",
      "Cell \u001b[0;32mIn[20], line 2\u001b[0m\n\u001b[1;32m      1\u001b[0m \u001b[38;5;28;01mfrom\u001b[39;00m\u001b[38;5;250m \u001b[39m\u001b[38;5;21;01mevidently\u001b[39;00m\u001b[38;5;250m \u001b[39m\u001b[38;5;28;01mimport\u001b[39;00m Report\n\u001b[0;32m----> 2\u001b[0m \u001b[38;5;28;01mfrom\u001b[39;00m\u001b[38;5;250m \u001b[39m\u001b[38;5;21;01mevidently\u001b[39;00m\u001b[38;5;21;01m.\u001b[39;00m\u001b[38;5;21;01mpresets\u001b[39;00m\u001b[38;5;250m \u001b[39m\u001b[38;5;28;01mimport\u001b[39;00m DataDriftPreset, DataQualityPreset\n\u001b[1;32m      3\u001b[0m \u001b[38;5;28;01mfrom\u001b[39;00m\u001b[38;5;250m \u001b[39m\u001b[38;5;21;01mevidently\u001b[39;00m\u001b[38;5;21;01m.\u001b[39;00m\u001b[38;5;21;01mtest_preset\u001b[39;00m\u001b[38;5;250m \u001b[39m\u001b[38;5;28;01mimport\u001b[39;00m DataDriftTestPreset\n\u001b[1;32m      4\u001b[0m \u001b[38;5;28;01mfrom\u001b[39;00m\u001b[38;5;250m \u001b[39m\u001b[38;5;21;01mevidently\u001b[39;00m\u001b[38;5;21;01m.\u001b[39;00m\u001b[38;5;21;01mtest_suite\u001b[39;00m\u001b[38;5;250m \u001b[39m\u001b[38;5;28;01mimport\u001b[39;00m TestSuite\n",
      "\u001b[0;31mImportError\u001b[0m: cannot import name 'DataQualityPreset' from 'evidently.presets' (/home/sunilpradhan/conda/envs/fsds/lib/python3.10/site-packages/evidently/presets/__init__.py)"
     ]
    }
   ],
   "source": [
    "from evidently import Report\n",
    "from evidently.presets import DataDriftPreset, DataQualityPreset\n",
    "from evidently.test_preset import DataDriftTestPreset\n",
    "from evidently.test_suite import TestSuite\n",
    "from evidently.ui.remote import RemoteWorkspace\n",
    "from evidently.ui.workspace import Workspace"
   ]
  },
  {
   "cell_type": "code",
   "execution_count": 21,
   "id": "97daeb12",
   "metadata": {},
   "outputs": [
    {
     "ename": "SyntaxError",
     "evalue": "invalid syntax (2230997547.py, line 1)",
     "output_type": "error",
     "traceback": [
      "\u001b[0;36m  Cell \u001b[0;32mIn[21], line 1\u001b[0;36m\u001b[0m\n\u001b[0;31m    evidently ui --demo-project\u001b[0m\n\u001b[0m              ^\u001b[0m\n\u001b[0;31mSyntaxError\u001b[0m\u001b[0;31m:\u001b[0m invalid syntax\n"
     ]
    }
   ],
   "source": [
    "evidently ui --demo-project"
   ]
  },
  {
   "cell_type": "code",
   "execution_count": 22,
   "id": "e04e9290",
   "metadata": {},
   "outputs": [],
   "source": [
    "from evidently.ui.workspace import Workspace\n",
    "from evidently.ui.workspace import WorkspaceBase"
   ]
  },
  {
   "cell_type": "code",
   "execution_count": 23,
   "id": "29c85983",
   "metadata": {},
   "outputs": [],
   "source": [
    "WORKSPACE = \"workspace\"\n",
    "\n",
    "YOUR_PROJECT_NAME = \"New Project\"\n",
    "YOUR_PROJECT_DESCRIPTION = \"Test project using Adult dataset.\""
   ]
  },
  {
   "cell_type": "code",
   "execution_count": 25,
   "id": "3600078b",
   "metadata": {},
   "outputs": [
    {
     "ename": "TypeError",
     "evalue": "WorkspaceBase.create_project() missing 1 required positional argument: 'self'",
     "output_type": "error",
     "traceback": [
      "\u001b[0;31m---------------------------------------------------------------------------\u001b[0m",
      "\u001b[0;31mTypeError\u001b[0m                                 Traceback (most recent call last)",
      "Cell \u001b[0;32mIn[25], line 1\u001b[0m\n\u001b[0;32m----> 1\u001b[0m project \u001b[38;5;241m=\u001b[39m \u001b[43mWorkspaceBase\u001b[49m\u001b[38;5;241;43m.\u001b[39;49m\u001b[43mcreate_project\u001b[49m\u001b[43m(\u001b[49m\u001b[43mname\u001b[49m\u001b[38;5;241;43m=\u001b[39;49m\u001b[43mYOUR_PROJECT_NAME\u001b[49m\u001b[43m)\u001b[49m\n\u001b[1;32m      2\u001b[0m project\u001b[38;5;241m.\u001b[39mdescription \u001b[38;5;241m=\u001b[39m YOUR_PROJECT_DESCRIPTION\n",
      "\u001b[0;31mTypeError\u001b[0m: WorkspaceBase.create_project() missing 1 required positional argument: 'self'"
     ]
    }
   ],
   "source": [
    "project = WorkspaceBase.create_project(name=YOUR_PROJECT_NAME)\n",
    "project.description = YOUR_PROJECT_DESCRIPTION"
   ]
  },
  {
   "cell_type": "code",
   "execution_count": 40,
   "id": "eed6aa69",
   "metadata": {},
   "outputs": [
    {
     "ename": "ImportError",
     "evalue": "cannot import name 'DataQualityPreset' from 'evidently.presets' (/home/sunilpradhan/conda/envs/fsds/lib/python3.10/site-packages/evidently/presets/__init__.py)",
     "output_type": "error",
     "traceback": [
      "\u001b[0;31m---------------------------------------------------------------------------\u001b[0m",
      "\u001b[0;31mImportError\u001b[0m                               Traceback (most recent call last)",
      "Cell \u001b[0;32mIn[40], line 1\u001b[0m\n\u001b[0;32m----> 1\u001b[0m \u001b[38;5;28;01mfrom\u001b[39;00m\u001b[38;5;250m \u001b[39m\u001b[38;5;21;01mevidently\u001b[39;00m\u001b[38;5;21;01m.\u001b[39;00m\u001b[38;5;21;01mpresets\u001b[39;00m\u001b[38;5;250m \u001b[39m\u001b[38;5;28;01mimport\u001b[39;00m DataDriftPreset, DataQualityPreset\n",
      "\u001b[0;31mImportError\u001b[0m: cannot import name 'DataQualityPreset' from 'evidently.presets' (/home/sunilpradhan/conda/envs/fsds/lib/python3.10/site-packages/evidently/presets/__init__.py)"
     ]
    }
   ],
   "source": [
    "from evidently.presets import DataDriftPreset, DataQualityPreset"
   ]
  },
  {
   "cell_type": "code",
   "execution_count": 45,
   "id": "b60d5ae8",
   "metadata": {},
   "outputs": [
    {
     "ename": "ImportError",
     "evalue": "cannot import name 'ColumnDriftMetric' from 'evidently.metrics' (/home/sunilpradhan/conda/envs/fsds/lib/python3.10/site-packages/evidently/metrics/__init__.py)",
     "output_type": "error",
     "traceback": [
      "\u001b[0;31m---------------------------------------------------------------------------\u001b[0m",
      "\u001b[0;31mImportError\u001b[0m                               Traceback (most recent call last)",
      "Cell \u001b[0;32mIn[45], line 5\u001b[0m\n\u001b[1;32m      1\u001b[0m \u001b[38;5;28;01mimport\u001b[39;00m\u001b[38;5;250m \u001b[39m\u001b[38;5;21;01mdatetime\u001b[39;00m\n\u001b[1;32m      3\u001b[0m \u001b[38;5;28;01mfrom\u001b[39;00m\u001b[38;5;250m \u001b[39m\u001b[38;5;21;01msklearn\u001b[39;00m\u001b[38;5;250m \u001b[39m\u001b[38;5;28;01mimport\u001b[39;00m datasets\n\u001b[0;32m----> 5\u001b[0m \u001b[38;5;28;01mfrom\u001b[39;00m\u001b[38;5;250m \u001b[39m\u001b[38;5;21;01mevidently\u001b[39;00m\u001b[38;5;21;01m.\u001b[39;00m\u001b[38;5;21;01mmetrics\u001b[39;00m\u001b[38;5;250m \u001b[39m\u001b[38;5;28;01mimport\u001b[39;00m ColumnDriftMetric\n\u001b[1;32m      6\u001b[0m \u001b[38;5;28;01mfrom\u001b[39;00m\u001b[38;5;250m \u001b[39m\u001b[38;5;21;01mevidently\u001b[39;00m\u001b[38;5;21;01m.\u001b[39;00m\u001b[38;5;21;01mmetrics\u001b[39;00m\u001b[38;5;250m \u001b[39m\u001b[38;5;28;01mimport\u001b[39;00m ColumnSummaryMetric\n\u001b[1;32m      7\u001b[0m \u001b[38;5;28;01mfrom\u001b[39;00m\u001b[38;5;250m \u001b[39m\u001b[38;5;21;01mevidently\u001b[39;00m\u001b[38;5;21;01m.\u001b[39;00m\u001b[38;5;21;01mmetrics\u001b[39;00m\u001b[38;5;250m \u001b[39m\u001b[38;5;28;01mimport\u001b[39;00m DatasetDriftMetric\n",
      "\u001b[0;31mImportError\u001b[0m: cannot import name 'ColumnDriftMetric' from 'evidently.metrics' (/home/sunilpradhan/conda/envs/fsds/lib/python3.10/site-packages/evidently/metrics/__init__.py)"
     ]
    }
   ],
   "source": [
    "import datetime\n",
    "\n",
    "from sklearn import datasets\n",
    "\n",
    "from evidently.metrics import ColumnDriftMetric\n",
    "from evidently.metrics import ColumnSummaryMetric\n",
    "from evidently.metrics import DatasetDriftMetric\n",
    "from evidently.metrics import DatasetMissingValuesMetric\n",
    "from evidently.report import Report\n",
    "from evidently.test_preset import DataDriftTestPreset\n",
    "from evidently.test_suite import TestSuite\n",
    "from evidently.ui.dashboards import CounterAgg\n",
    "from evidently.ui.dashboards import DashboardPanelCounter\n",
    "from evidently.ui.dashboards import DashboardPanelPlot\n",
    "from evidently.ui.dashboards import PanelValue"
   ]
  },
  {
   "cell_type": "code",
   "execution_count": 46,
   "id": "6494e001",
   "metadata": {},
   "outputs": [
    {
     "ename": "ModuleNotFoundError",
     "evalue": "No module named 'evidently.calculations'",
     "output_type": "error",
     "traceback": [
      "\u001b[0;31m---------------------------------------------------------------------------\u001b[0m",
      "\u001b[0;31mModuleNotFoundError\u001b[0m                       Traceback (most recent call last)",
      "Cell \u001b[0;32mIn[46], line 1\u001b[0m\n\u001b[0;32m----> 1\u001b[0m \u001b[38;5;28;01mfrom\u001b[39;00m\u001b[38;5;250m \u001b[39m\u001b[38;5;21;01mevidently\u001b[39;00m\u001b[38;5;21;01m.\u001b[39;00m\u001b[38;5;21;01mcalculations\u001b[39;00m\u001b[38;5;21;01m.\u001b[39;00m\u001b[38;5;21;01mstattests\u001b[39;00m\u001b[38;5;21;01m.\u001b[39;00m\u001b[38;5;21;01mregistry\u001b[39;00m\u001b[38;5;250m \u001b[39m\u001b[38;5;28;01mimport\u001b[39;00m StatTest\n",
      "\u001b[0;31mModuleNotFoundError\u001b[0m: No module named 'evidently.calculations'"
     ]
    }
   ],
   "source": [
    "from evidently.calculations.stattests.registry import StatTest"
   ]
  },
  {
   "cell_type": "code",
   "execution_count": 47,
   "id": "293b7976",
   "metadata": {},
   "outputs": [
    {
     "ename": "ModuleNotFoundError",
     "evalue": "No module named 'evidently.future.calculations'",
     "output_type": "error",
     "traceback": [
      "\u001b[0;31m---------------------------------------------------------------------------\u001b[0m",
      "\u001b[0;31mModuleNotFoundError\u001b[0m                       Traceback (most recent call last)",
      "Cell \u001b[0;32mIn[47], line 1\u001b[0m\n\u001b[0;32m----> 1\u001b[0m \u001b[38;5;28;01mfrom\u001b[39;00m\u001b[38;5;250m \u001b[39m\u001b[38;5;21;01mevidently\u001b[39;00m\u001b[38;5;21;01m.\u001b[39;00m\u001b[38;5;21;01mfuture\u001b[39;00m\u001b[38;5;21;01m.\u001b[39;00m\u001b[38;5;21;01mcalculations\u001b[39;00m\u001b[38;5;21;01m.\u001b[39;00m\u001b[38;5;21;01mstattests\u001b[39;00m\u001b[38;5;250m \u001b[39m\u001b[38;5;28;01mimport\u001b[39;00m StatTest\n\u001b[1;32m      3\u001b[0m \u001b[38;5;28;01mdef\u001b[39;00m\u001b[38;5;250m \u001b[39m\u001b[38;5;21m_anderson_stat_test\u001b[39m(reference_data: pd\u001b[38;5;241m.\u001b[39mSeries, current_data: pd\u001b[38;5;241m.\u001b[39mSeries, feature_type: \u001b[38;5;28mstr\u001b[39m, threshold: \u001b[38;5;28mfloat\u001b[39m):\n\u001b[1;32m      4\u001b[0m     p_value \u001b[38;5;241m=\u001b[39m anderson_ksamp(np\u001b[38;5;241m.\u001b[39marray([reference_data, current_data]))[\u001b[38;5;241m2\u001b[39m]\n",
      "\u001b[0;31mModuleNotFoundError\u001b[0m: No module named 'evidently.future.calculations'"
     ]
    }
   ],
   "source": [
    "from evidently.future.calculations.stattests import StatTest\n",
    "\n",
    "def _anderson_stat_test(reference_data: pd.Series, current_data: pd.Series, feature_type: str, threshold: float):\n",
    "    p_value = anderson_ksamp(np.array([reference_data, current_data]))[2]\n",
    "    return p_value, p_value < threshold\n",
    "\n",
    "anderson_stat_test = StatTest(\n",
    "    name=\"anderson\",\n",
    "    display_name=\"Anderson test (p_value)\",\n",
    "    func=_anderson_stat_test,\n",
    "    allowed_feature_types=[\"num\"]\n",
    ")"
   ]
  },
  {
   "cell_type": "code",
   "execution_count": null,
   "id": "3f7a0fac",
   "metadata": {},
   "outputs": [],
   "source": [
    "the_report = Report(metrics=[\n",
    "    RegressionQualityMetric(),\n",
    "    RegressionErrorPlot(),\n",
    "    RegressionErrorDistribution(),\n",
    "    DataDriftPreset(stattest=anderson_stat_test, stattest_threshold=0.9),\n",
    "])\n",
    "\n",
    "\n",
    "the_report.run(\n",
    "    reference_data=reference,\n",
    "    current_data=current.loc['2011-02-14 00:00:00':'2011-02-21 23:00:00'],\n",
    "    column_mapping=column_mapping_drift\n",
    ")\n",
    "the_report"
   ]
  },
  {
   "cell_type": "code",
   "execution_count": 49,
   "id": "52331702",
   "metadata": {},
   "outputs": [],
   "source": [
    "from evidently import Report\n",
    "from evidently.metrics import *\n",
    "from evidently.presets import *\n",
    "from evidently.tests import *"
   ]
  },
  {
   "cell_type": "code",
   "execution_count": 51,
   "id": "c90bde22",
   "metadata": {},
   "outputs": [
    {
     "ename": "ImportError",
     "evalue": "cannot import name 'ColumnDriftMetric' from 'evidently.metrics' (/home/sunilpradhan/conda/envs/fsds/lib/python3.10/site-packages/evidently/metrics/__init__.py)",
     "output_type": "error",
     "traceback": [
      "\u001b[0;31m---------------------------------------------------------------------------\u001b[0m",
      "\u001b[0;31mImportError\u001b[0m                               Traceback (most recent call last)",
      "Cell \u001b[0;32mIn[51], line 5\u001b[0m\n\u001b[1;32m      1\u001b[0m \u001b[38;5;28;01mimport\u001b[39;00m\u001b[38;5;250m \u001b[39m\u001b[38;5;21;01mdatetime\u001b[39;00m\n\u001b[1;32m      3\u001b[0m \u001b[38;5;28;01mfrom\u001b[39;00m\u001b[38;5;250m \u001b[39m\u001b[38;5;21;01msklearn\u001b[39;00m\u001b[38;5;250m \u001b[39m\u001b[38;5;28;01mimport\u001b[39;00m datasets\n\u001b[0;32m----> 5\u001b[0m \u001b[38;5;28;01mfrom\u001b[39;00m\u001b[38;5;250m \u001b[39m\u001b[38;5;21;01mevidently\u001b[39;00m\u001b[38;5;21;01m.\u001b[39;00m\u001b[38;5;21;01mmetrics\u001b[39;00m\u001b[38;5;250m \u001b[39m\u001b[38;5;28;01mimport\u001b[39;00m ColumnDriftMetric\n\u001b[1;32m      6\u001b[0m \u001b[38;5;28;01mfrom\u001b[39;00m\u001b[38;5;250m \u001b[39m\u001b[38;5;21;01mevidently\u001b[39;00m\u001b[38;5;21;01m.\u001b[39;00m\u001b[38;5;21;01mmetrics\u001b[39;00m\u001b[38;5;250m \u001b[39m\u001b[38;5;28;01mimport\u001b[39;00m ColumnSummaryMetric\n\u001b[1;32m      7\u001b[0m \u001b[38;5;28;01mfrom\u001b[39;00m\u001b[38;5;250m \u001b[39m\u001b[38;5;21;01mevidently\u001b[39;00m\u001b[38;5;21;01m.\u001b[39;00m\u001b[38;5;21;01mmetrics\u001b[39;00m\u001b[38;5;250m \u001b[39m\u001b[38;5;28;01mimport\u001b[39;00m DatasetDriftMetric\n",
      "\u001b[0;31mImportError\u001b[0m: cannot import name 'ColumnDriftMetric' from 'evidently.metrics' (/home/sunilpradhan/conda/envs/fsds/lib/python3.10/site-packages/evidently/metrics/__init__.py)"
     ]
    }
   ],
   "source": [
    "import datetime\n",
    "\n",
    "from sklearn import datasets\n",
    "\n",
    "from evidently.metrics import ColumnDriftMetric\n",
    "from evidently.metrics import ColumnSummaryMetric\n",
    "from evidently.metrics import DatasetDriftMetric\n",
    "from evidently.metrics import DatasetMissingValuesMetric\n",
    "from evidently.report import Report\n",
    "from evidently.test_preset import DataDriftTestPreset\n",
    "from evidently.test_suite import TestSuite\n",
    "from evidently.ui.dashboards import CounterAgg\n",
    "from evidently.ui.dashboards import DashboardPanelCounter\n",
    "from evidently.ui.dashboards import DashboardPanelPlot\n",
    "from evidently.ui.dashboards import PanelValue"
   ]
  },
  {
   "cell_type": "code",
   "execution_count": null,
   "id": "88196e5b",
   "metadata": {},
   "outputs": [],
   "source": []
  }
 ],
 "metadata": {
  "kernelspec": {
   "display_name": "fsds",
   "language": "python",
   "name": "python3"
  },
  "language_info": {
   "codemirror_mode": {
    "name": "ipython",
    "version": 3
   },
   "file_extension": ".py",
   "mimetype": "text/x-python",
   "name": "python",
   "nbconvert_exporter": "python",
   "pygments_lexer": "ipython3",
   "version": "3.10.14"
  }
 },
 "nbformat": 4,
 "nbformat_minor": 5
}
